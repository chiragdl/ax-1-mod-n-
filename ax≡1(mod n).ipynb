{
 "cells": [
  {
   "cell_type": "code",
   "execution_count": 6,
   "id": "5eeb0b3d",
   "metadata": {},
   "outputs": [],
   "source": [
    "from functools import reduce \n",
    "class CI: \n",
    "    def __init__(self, c, m):\n",
    "        self.c = c%m\n",
    "        self.a = 1%m\n",
    "        self.m = m\n",
    "    def solve(self, x):\n",
    "        return (x*self.c)%self.m == self.a\n",
    "    \n",
    "def find(cil):\n",
    "    val = reduce(lambda acc, ci: acc*ci.m, cil, 1)+1\n",
    "    for x in range(0,val):\n",
    "        if reduce(lambda acc, ci: acc and ci.solve(x), cil, True):\n",
    "            return x"
   ]
  },
  {
   "cell_type": "code",
   "execution_count": 7,
   "id": "cb2f3ccd",
   "metadata": {},
   "outputs": [
    {
     "name": "stdout",
     "output_type": "stream",
     "text": [
      "17\n"
     ]
    }
   ],
   "source": [
    "print(find([CI(12,29)]))"
   ]
  },
  {
   "cell_type": "code",
   "execution_count": 8,
   "id": "0c8ba9fb",
   "metadata": {},
   "outputs": [
    {
     "name": "stdout",
     "output_type": "stream",
     "text": [
      "6\n"
     ]
    }
   ],
   "source": [
    "print(find([CI(5,29)]))"
   ]
  },
  {
   "cell_type": "code",
   "execution_count": null,
   "id": "8567ff41",
   "metadata": {},
   "outputs": [],
   "source": []
  }
 ],
 "metadata": {
  "kernelspec": {
   "display_name": "Python 3 (ipykernel)",
   "language": "python",
   "name": "python3"
  },
  "language_info": {
   "codemirror_mode": {
    "name": "ipython",
    "version": 3
   },
   "file_extension": ".py",
   "mimetype": "text/x-python",
   "name": "python",
   "nbconvert_exporter": "python",
   "pygments_lexer": "ipython3",
   "version": "3.9.13"
  }
 },
 "nbformat": 4,
 "nbformat_minor": 5
}
